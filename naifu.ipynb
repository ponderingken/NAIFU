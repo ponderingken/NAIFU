{
 "cells": [
  {
   "cell_type": "markdown",
   "metadata": {},
   "source": [
    "# Naifu notebook"
   ]
  },
  {
   "cell_type": "markdown",
   "metadata": {},
   "source": [
    "## How to run\n",
    "\n",
    "1. Register ngrok account and get Token.\n",
    "\n",
    "    https://dashboard.ngrok.com/get-started/your-authtoken\n",
    "\n",
    "2. Upload this file to Google Drive.\n",
    "3. Open with Google Colaboratory and set as follows.\n",
    "\n",
    "    ```\n",
    "    Runtime > Change runtime type\n",
    "        Type                  : Python3\n",
    "        Hardware Accelerator  : GPU\n",
    "        GPU Type              : A100\n",
    "    ```\n",
    "    \n",
    "4. Assign the acquired token to the NGROK_TOKEN variable.\n",
    "5. Runtime > Run all cells\n",
    "\n",
    "### Note\n",
    "\n",
    "It takes time to process the data download only for the first time.\n",
    "\n",
    "If you don't subscribe to Google One, you may run out of space on Google Drive."
   ]
  },
  {
   "cell_type": "markdown",
   "metadata": {},
   "source": [
    "## Imports"
   ]
  },
  {
   "cell_type": "code",
   "execution_count": null,
   "metadata": {},
   "outputs": [],
   "source": [
    "import os\n",
    "from google.colab import drive"
   ]
  },
  {
   "cell_type": "markdown",
   "metadata": {},
   "source": [
    "## User Settings"
   ]
  },
  {
   "cell_type": "code",
   "execution_count": null,
   "metadata": {},
   "outputs": [],
   "source": [
    "NAIFU_PATH = \"/content/drive/MyDrive/naifu_main\"\n",
    "NGROK_TOKEN = \"<ngrok token here>\"\n",
    "\n",
    "os.environ['ERROR_REPORTING'] = \"FALSE\"\n",
    "os.environ['ERROR_REPORTING'] = \"FALSE\"\n",
    "os.environ['DTYPE'] = \"float32\"\n",
    "os.environ['CLIP_CONTEXTS'] = \"3\"\n",
    "os.environ['AMP'] = \"1\"\n",
    "os.environ['MODEL'] = \"stable-diffusion\"\n",
    "os.environ['DEV'] = \"True\"\n",
    "os.environ['ENABLE_EMA'] = \"1\"\n",
    "os.environ['PENULTIMATE'] = \"1\"\n",
    "os.environ['PYTHONDONTWRITEBYTECODE'] = \"1\"\n",
    "\n",
    "os.environ['CONFIG_PATH'] = \"models/animefull-final-pruned/config.yaml\"\n",
    "os.environ['MODEL_PATH'] = \"models/animefull-final-pruned/model.ckpt\"\n",
    "os.environ['VAE_PATH'] = \"models/animevae.pt\"\n",
    "\n",
    "os.environ['SAVE_FILES'] = \"1\"\n",
    "os.environ['SAVE_TYPE'] = \"full\""
   ]
  },
  {
   "cell_type": "markdown",
   "metadata": {},
   "source": [
    "## Overhead"
   ]
  },
  {
   "cell_type": "code",
   "execution_count": null,
   "metadata": {},
   "outputs": [],
   "source": [
    "drive.mount('/content/drive')\n",
    "\n",
    "if not os.path.exists(NAIFU_PATH):\n",
    "  os.makedirs(NAIFU_PATH)\n",
    "else:\n",
    "  print(\"Directory is already exist.\")\n",
    "\n",
    "%cd {NAIFU_PATH}"
   ]
  },
  {
   "cell_type": "markdown",
   "metadata": {},
   "source": [
    "## Setup"
   ]
  },
  {
   "cell_type": "code",
   "execution_count": null,
   "metadata": {},
   "outputs": [],
   "source": [
    "def download_torrent(save_path, magnet):\n",
    "  !pip install --upgrade pip setuptools wheel\n",
    "  !pip install lbry-libtorrent wget torf\n",
    "  !apt install python3-libtorrent\n",
    "\n",
    "  import zipfile\n",
    "  import os\n",
    "  import libtorrent as lt\n",
    "  import time\n",
    "  import datetime\n",
    "  import shutil\n",
    "\n",
    "  params = {\n",
    "    'save_path': save_path,\n",
    "    'storage_mode': lt.storage_mode_t(2),\n",
    "  }\n",
    "\n",
    "  ses = lt.session()\n",
    "  ses.listen_on(6881, 6891)\n",
    "  link = magnet\n",
    "\n",
    "  if link.endswith('.torrent'):\n",
    "    import wget\n",
    "    from torf import Torrent\n",
    "\n",
    "    if os.path.exists('torrent.torrent'):\n",
    "      os.remove('torrent.torrent')\n",
    "\n",
    "    wget.download(link, 'torrent.torrent')\n",
    "    t = Torrent.read('torrent.torrent')\n",
    "    link = str(t.magnet(name=True, size=False, trackers=False, tracker=False))\n",
    "\n",
    "\n",
    "  print(link)\n",
    "  handle = lt.add_magnet_uri(ses, link, params)\n",
    "  # change the 0 to a 1 to download sequentially\n",
    "  handle.set_sequential_download(0)\n",
    "  ses.start_dht()\n",
    "  begin = time.time()\n",
    "\n",
    "  print(datetime.datetime.now())\n",
    "  print('Downloading Metadata...')\n",
    "\n",
    "  while not handle.has_metadata():\n",
    "    time.sleep(1)\n",
    "\n",
    "  print('Got Metadata, Starting Torrent Download...')\n",
    "  print(\"Starting\", handle.name())\n",
    "\n",
    "  while handle.status().state != lt.torrent_status.seeding:\n",
    "    s = handle.status()\n",
    "    state_str = ['queued', 'checking', 'downloading metadata',\n",
    "                'downloading', 'finished', 'seeding', 'allocating']\n",
    "    print('%.2f%% complete (down: %.1f kb/s up: %.1f kB/s peers: %d) %s ' %\n",
    "          (s.progress * 100, s.download_rate / 1000, s.upload_rate / 1000,\n",
    "          s.num_peers, state_str[s.state]))\n",
    "    time.sleep(5)\n",
    "\n",
    "  end = time.time()\n",
    "  print(handle.name(), \"COMPLETE\")\n",
    "  print(\"Elapsed Time: \", int((end - begin) // 60), \"min :\", int((end - begin) % 60), \"sec\")\n",
    "  print(datetime.datetime.now())\n",
    "\n",
    "def setup():\n",
    "  !git clone https://github.com/Limitex/NAIFU\n",
    "  download_torrent(NAIFU_PATH, \"magnet:?xt=urn:btih:4a4b483d4a5840b6e1fee6b0ca1582c979434e4d&dn=naifu&tr=udp%%3a%%2f%%2ftracker.opentrackr.org%%3a1337%%2fannounce\")\n",
    "\n",
    "  !mkdir {NAIFU_PATH}/NAIFU/models\n",
    "  !mv {NAIFU_PATH}/naifu/models {NAIFU_PATH}/NAIFU\n",
    "\n",
    "if len(os.listdir(NAIFU_PATH)) == 0:\n",
    "  setup()\n",
    "else:\n",
    "  print(\"Setup cannot run because the directory is not empty.\")"
   ]
  },
  {
   "cell_type": "markdown",
   "metadata": {},
   "source": [
    "## Run"
   ]
  },
  {
   "cell_type": "code",
   "execution_count": null,
   "metadata": {},
   "outputs": [],
   "source": [
    "%cd {NAIFU_PATH}/NAIFU\n",
    "\n",
    "!pip install -r requirements.txt\n",
    "\n",
    "if os.path.exists(\"ngrok\"):\n",
    "  !rm ngrok-stable-linux-amd64.zip\n",
    "  !rm ngrok\n",
    "\n",
    "!wget https://bin.equinox.io/c/4VmDzA7iaHb/ngrok-stable-linux-amd64.zip\n",
    "!unzip ngrok-stable-linux-amd64.zip\n",
    "\n",
    "!./ngrok authtoken {NGROK_TOKEN}\n",
    "get_ipython().system_raw('./ngrok http 8000 -host-header=\"127.0.0.1:8000\" -region=jp &')\n",
    "\n",
    "import time\n",
    "time.sleep(10)\n",
    "\n",
    "print(\"\\nPublic link: \")\n",
    "!curl -s http://localhost:4040/api/tunnels | python3 -c \"import sys, json; print(json.load(sys.stdin)['tunnels'][0]['public_url'])\"\n",
    "print(\"\\nStart server process\")\n",
    "!python -m uvicorn --host 127.0.0.1 --port=8000 --workers 1 main:app"
   ]
  }
 ],
 "metadata": {
  "language_info": {
   "name": "python"
  },
  "orig_nbformat": 4
 },
 "nbformat": 4,
 "nbformat_minor": 2
}
